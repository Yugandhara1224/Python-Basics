{
  "nbformat": 4,
  "nbformat_minor": 0,
  "metadata": {
    "colab": {
      "provenance": []
    },
    "kernelspec": {
      "name": "python3",
      "display_name": "Python 3"
    },
    "language_info": {
      "name": "python"
    }
  },
  "cells": [
    {
      "cell_type": "markdown",
      "source": [
        "**Phython Basics**"
      ],
      "metadata": {
        "id": "pZ-oqfYEzQyl"
      }
    },
    {
      "cell_type": "markdown",
      "source": [
        "1.  What is Python, and why is it popular?\n",
        "--> Python is a high-level, interpreted programming language known for its readability and simplicity. It supports multiple programming paradigms and has a large standard library, making it versatile for various applications.\n",
        "\n",
        "Reasons for Popularity:\n",
        "1. Readability: Clear and concise syntax makes it easy to learn and maintain.\n",
        "2. Community Support: A large, active community provides extensive resources and libraries.\n",
        "3. Versatility: Used in web development, data analysis, machine learning, automation, and more.\n",
        "4. Cross-Platform: Runs on multiple operating systems without modification.\n",
        "5. Rapid Development: Facilitates quick iterations and prototyping.\n",
        "6. Strong Data Science Support: Popular in data science and machine learning due to powerful libraries.\n"
      ],
      "metadata": {
        "id": "1q_tGfaXzZly"
      }
    },
    {
      "cell_type": "markdown",
      "source": [
        "2. What is an interpreter in Python?\n",
        "--> An interpreter in Python is a program that executes Python code line by line. Unlike a compiler, which translates the entire code into machine language before execution, an interpreter processes the code directly, allowing for immediate execution and easier debugging. This makes Python interactive and suitable for rapid development and testing. The most commonly used interpreter for Python is CPython, which is the reference implementation of the language."
      ],
      "metadata": {
        "id": "HmLcFy4_0tEi"
      }
    },
    {
      "cell_type": "markdown",
      "source": [
        "3. What are pre-defined keywords in Python?\n",
        "--> Pre-defined keywords in Python are reserved words that have special meanings and cannot be used as identifiers (such as variable names, function names, etc.). These keywords define the syntax and structure of the Python language."
      ],
      "metadata": {
        "id": "7IZhBvW_04Uk"
      }
    },
    {
      "cell_type": "markdown",
      "source": [
        "4. Can keywords be used as variable names?\n",
        "--> No, keywords cannot be used as variable names in Python. Keywords are reserved words that have special meanings in the language, and using them as variable names would lead to syntax errors. For example, you cannot name a variable if, for, or class."
      ],
      "metadata": {
        "id": "YHz4cMGj1LnJ"
      }
    },
    {
      "cell_type": "markdown",
      "source": [
        "5. What is mutability in Python?\n",
        "--> Mutability in Python refers to the ability of an object to be changed after it has been created.\n",
        "\n",
        "1.\tMutable Objects: These can be modified in place. Examples include lists, dictionaries, and sets. You can change their contents without creating a new object.\n",
        "2.\tImmutable Objects: These cannot be changed once created. Examples include strings, tuples, and frozensets. Any modification results in the creation of a new object.\n",
        "\n"
      ],
      "metadata": {
        "id": "ymcNdxU_1ciD"
      }
    },
    {
      "cell_type": "markdown",
      "source": [
        "6. Why are lists mutable, but tuples are immutable?\n",
        "--> Lists are mutable in Python because they are designed to allow dynamic changes, such as adding, removing, or modifying elements. This flexibility makes lists suitable for scenarios where the data may need to change over time.\n",
        "Tuples, on the other hand, are immutable, meaning that once they are created, their contents cannot be altered. This immutability provides several benefits, such as:\n",
        "\n",
        "1.\tPerformance: Tuples can be more memory-efficient and faster to access than lists due to their fixed size.\n",
        "2.\tHashability: Tuples can be used as keys in dictionaries or elements in sets, while lists cannot, because their contents can change.\n",
        "3.\tData Integrity: Immutability ensures that the data remains constant, which can be useful for maintaining integrity in certain applications.\n",
        "\n"
      ],
      "metadata": {
        "id": "bfGNFOKe1_Co"
      }
    },
    {
      "cell_type": "markdown",
      "source": [
        "7.  What is the difference between “==” and “is” operators in Python?\n",
        "--> In Python, the \"==\" and \"is\" operators are used for comparison, but they serve different purposes:\n",
        "\n",
        "\"==\" Operator:\n",
        "\n",
        "Purpose: Checks for value equality.\n",
        "\n",
        "Usage: It compares the values of two objects to determine if they are equivalent.\n",
        "\n",
        "\"is\" Operator:\n",
        "\n",
        "Purpose: Checks for identity equality.\n",
        "\n",
        "Usage: It compares the memory addresses of two objects to determine if they are the same object in memory."
      ],
      "metadata": {
        "id": "A0th38A-2YQ3"
      }
    },
    {
      "cell_type": "markdown",
      "source": [
        "8. What are logical operators in Python?\n",
        "--> Logical operators in Python are used to combine conditional statements and evaluate their truth values. The three main logical operators are:\n",
        "\n",
        "1.\tand:\n",
        "Description: Returns True if both operands are true.\n",
        "\n",
        "2.\tor:\n",
        "Description: Returns True if at least one of the operands is true.\n",
        "\n",
        "3.\tnot:\n",
        "Description: Returns True if the operand is false, and False if the operand is true (negates the truth value).\n",
        "\n",
        "\n"
      ],
      "metadata": {
        "id": "rKvWYB8j3EHc"
      }
    },
    {
      "cell_type": "markdown",
      "source": [
        "9.  What is type casting in Python?\n",
        "--> Type casting in Python is the process of converting a variable from one data type to another. This is useful when you need to perform operations that require specific data types or when you want to ensure that data is in the correct format.\n",
        "\n",
        " Common Type Casting Functions:\n",
        "1. `int()`: Converts a value to an integer.\n",
        "   - Example: `int(3.14)` results in `3`.\n",
        "2. `float()`: Converts a value to a floating-point number.\n",
        "   - Example: `float(5)` results in `5.0`.\n",
        "3. `str()`: Converts a value to a string.\n",
        "   - Example: `str(100)` results in `'100'`.\n",
        "4. `list()`: Converts an iterable (like a string or tuple) to a list.\n",
        "   - Example: `list('hello')` results in `['h', 'e', 'l', 'l', 'o']`.\n",
        "5. `tuple()`: Converts an iterable to a tuple.\n",
        "   - Example: `tuple([1, 2, 3])` results in `(1, 2, 3)`.\n",
        "\n"
      ],
      "metadata": {
        "id": "5vdaVRVX3xE8"
      }
    },
    {
      "cell_type": "markdown",
      "source": [
        "10.  What is the difference between implicit and explicit type casting?\n",
        "--> The difference between implicit and explicit type casting in Python lies in how the conversion between data types is performed:\n",
        "\n",
        "Implicit Type Casting (Automatic Type Conversion):\n",
        "\n",
        "•\tDescription: The Python interpreter automatically converts one data type to another without any user intervention.\n",
        "\n",
        "•\tWhen It Occurs: This usually happens when performing operations involving different data types, where one type can be safely converted to another.\n",
        "\n",
        "Explicit Type Casting (Type Conversion):\n",
        "\n",
        "•\tDescription: The programmer manually converts one data type to another using built-in functions.\n",
        "\n",
        "•\tWhen It Occurs: This is used when you need to ensure a specific type for an operation or when implicit conversion is not possible.\n",
        "\n"
      ],
      "metadata": {
        "id": "jbCS83hS4TDt"
      }
    },
    {
      "cell_type": "markdown",
      "source": [
        "11.  What is the purpose of conditional statements in Python?\n",
        "--> Conditional statements in Python are used to execute specific blocks of code based on whether a given condition evaluates to 'True' or 'False'. They allow for decision-making in programs, enabling different actions to be taken depending on the input or state of the program. Conditional statements are essential for implementing logic and making decisions in Python programs, allowing for dynamic and responsive behavior based on varying conditions."
      ],
      "metadata": {
        "id": "9oWz2-Yq4vDR"
      }
    },
    {
      "cell_type": "markdown",
      "source": [
        "12. How does the elif statement work?\n",
        "--> The ‘elif’ statement in Python is short for \"else if\" and is used in conditional statements to check multiple conditions sequentially. It allows you to specify additional conditions to evaluate if the preceding ‘if’ condition is false.\n",
        "\n",
        "How ‘elif’ Works:\n",
        "\n",
        "1.\tSequential Evaluation: After an ‘if’ statement, you can have one or more ‘elif’ statements to check additional conditions. Python evaluates these conditions in the order they appear.\n",
        "2.\tExecution: If an ‘elif’ condition evaluates to ‘True’, the corresponding block of code is executed, and the rest of the ‘elif’ and ‘else’ statements are skipped.\n",
        "3.\tFallback: If none of the ‘if’ or ‘elif’ conditions are true, the optional ‘else’ block (if present) will be executed.\n",
        "\n"
      ],
      "metadata": {
        "id": "gOokSELr5QoY"
      }
    },
    {
      "cell_type": "markdown",
      "source": [
        "13.  What is the difference between for and while loops?\n",
        "--> The main difference between 'for' and 'while' loops in Python lies in how they control the iteration process:\n",
        "\n",
        "'for' Loop:\n",
        "\n",
        "Purpose: Used to iterate over a sequence (like a list, tuple, string, or range).\n",
        "\n",
        "Control: The number of iterations is determined by the length of the sequence or the range specified.\n",
        "\n",
        "'while' Loop:\n",
        "\n",
        "Purpose: Used to repeat a block of code as long as a specified condition is 'True'.\n",
        "\n",
        "Control: The number of iterations is not predetermined and depends on the condition being evaluated."
      ],
      "metadata": {
        "id": "ewlX0z2r6Gkc"
      }
    },
    {
      "cell_type": "markdown",
      "source": [
        "14. Describe a scenario where a while loop is more suitable than a for loop.\n",
        "--> A scenario where a 'while' loop is more suitable than a 'for' loop is when the number of iterations is not known in advance and depends on a dynamic condition.\n",
        "\n",
        "Example Scenario: User Input Validation\n",
        "\n",
        "Suppose you want to prompt a user to enter a valid password until they provide one that meets certain criteria (e.g., at least 8 characters long). In this case, you don't know how many attempts the user will need to make, so a 'while' loop is appropriate.\n",
        "\n",
        "Code Example:\n",
        "password = \"\"\n",
        "while len(password) < 8:\n",
        "    password = input(\"Enter a password (at least 8 characters): \")\n",
        "print(\"Password accepted.\")\n",
        "\n",
        "Explanation:\n",
        "\n",
        "The 'while' loop continues to prompt the user for input until the condition (password length being less than 8) is no longer true.\n",
        "This scenario is ideal for a 'while' loop because the number of iterations depends on user input, which is unpredictable. A 'for' loop would not be suitable here since it requires a predetermined number of iterations."
      ],
      "metadata": {
        "id": "Sn0hA4ML6o_t"
      }
    },
    {
      "cell_type": "markdown",
      "source": [
        "**Practical Questions**"
      ],
      "metadata": {
        "id": "BQpEErEO7WaH"
      }
    },
    {
      "cell_type": "code",
      "source": [
        "# 1. Write a Python program to print \"Hello, World!\"\"\n",
        "print(\"Hello, World!\")"
      ],
      "metadata": {
        "colab": {
          "base_uri": "https://localhost:8080/"
        },
        "id": "0fJQbcwq7wIK",
        "outputId": "77f4bc64-f5e1-4ce3-80ed-af0b6a39e18f"
      },
      "execution_count": 3,
      "outputs": [
        {
          "output_type": "stream",
          "name": "stdout",
          "text": [
            "Hello, World!\n"
          ]
        }
      ]
    },
    {
      "cell_type": "code",
      "source": [
        "# 2. Write a Python program that displays your name and age.\n",
        "name = \"Yugandhara\"\n",
        "age = 24\n",
        "\n",
        "print(\"name:\", name)\n",
        "print(\"age:\", age)"
      ],
      "metadata": {
        "colab": {
          "base_uri": "https://localhost:8080/"
        },
        "id": "2wUPsqNr8Hfa",
        "outputId": "6461bb06-6e23-4a8f-a8f3-1566708f2c7a"
      },
      "execution_count": 5,
      "outputs": [
        {
          "output_type": "stream",
          "name": "stdout",
          "text": [
            "name: Yugandhara\n",
            "age: 24\n"
          ]
        }
      ]
    },
    {
      "cell_type": "code",
      "source": [
        "# 3. Write code to print all the pre-defined keywords in Python using the keyword library.\n",
        "import keyword\n",
        "keywords = keyword.kwlist\n",
        "print(\"Python Keywords:\")\n",
        "for kw in keywords:\n",
        "    print(kw)"
      ],
      "metadata": {
        "colab": {
          "base_uri": "https://localhost:8080/"
        },
        "id": "CFWBiLIS81uO",
        "outputId": "29645f5f-607a-4000-ac14-d743e69d9687"
      },
      "execution_count": 7,
      "outputs": [
        {
          "output_type": "stream",
          "name": "stdout",
          "text": [
            "Python Keywords:\n",
            "False\n",
            "None\n",
            "True\n",
            "and\n",
            "as\n",
            "assert\n",
            "async\n",
            "await\n",
            "break\n",
            "class\n",
            "continue\n",
            "def\n",
            "del\n",
            "elif\n",
            "else\n",
            "except\n",
            "finally\n",
            "for\n",
            "from\n",
            "global\n",
            "if\n",
            "import\n",
            "in\n",
            "is\n",
            "lambda\n",
            "nonlocal\n",
            "not\n",
            "or\n",
            "pass\n",
            "raise\n",
            "return\n",
            "try\n",
            "while\n",
            "with\n",
            "yield\n"
          ]
        }
      ]
    },
    {
      "cell_type": "code",
      "source": [
        "# 4. Write a program that checks if a given word is a Python keyword\n",
        "import keyword\n",
        "word_to_check = \"def\"\n",
        "if keyword.iskeyword(word_to_check):\n",
        "    print(f\"'{word_to_check}' is a Python keyword.\")\n",
        "else:\n",
        "    print(f\"'{word_to_check}' is not a Python keyword.\")"
      ],
      "metadata": {
        "colab": {
          "base_uri": "https://localhost:8080/"
        },
        "id": "8IXSKxcK9Ktl",
        "outputId": "e488fb3d-3f16-4870-c579-317d72ded919"
      },
      "execution_count": 11,
      "outputs": [
        {
          "output_type": "stream",
          "name": "stdout",
          "text": [
            "'def' is a Python keyword.\n"
          ]
        }
      ]
    },
    {
      "cell_type": "code",
      "source": [
        "# 5. Create a list and tuple in Python, and demonstrate how attempting to change an element works differently for each.\n",
        "my_list = [1, 2, 3, 4, 5]\n",
        "print(\"Original List:\", my_list)\n",
        "my_list[2] = 99\n",
        "print(\"Modified List:\", my_list)\n",
        "my_tuple = (1, 2, 3, 4, 5)\n",
        "print(\"Original Tuple:\", my_tuple)\n",
        "try:\n",
        "    my_tuple[2] = 99\n",
        "except TypeError as e:\n",
        "    print(\"Error:\", e)"
      ],
      "metadata": {
        "colab": {
          "base_uri": "https://localhost:8080/"
        },
        "id": "glrYcLjO_JFe",
        "outputId": "53cf3715-9fd7-417c-957e-0f1a224c013e"
      },
      "execution_count": 12,
      "outputs": [
        {
          "output_type": "stream",
          "name": "stdout",
          "text": [
            "Original List: [1, 2, 3, 4, 5]\n",
            "Modified List: [1, 2, 99, 4, 5]\n",
            "Original Tuple: (1, 2, 3, 4, 5)\n",
            "Error: 'tuple' object does not support item assignment\n"
          ]
        }
      ]
    },
    {
      "cell_type": "markdown",
      "source": [
        "5. Create a list and tuple in Python, and demonstrate how attempting to change an element works differently for each.\n",
        "\n",
        "Explanation of the Code\n",
        "Creating a List:\n",
        "\n",
        "We create a list called my_list with elements [1, 2, 3, 4, 5].\n",
        "We print the original list.\n",
        "\n",
        "Modifying the List:\n",
        "\n",
        "We change the third element (index 2) of the list to 99.\n",
        "We print the modified list, which shows the change.\n",
        "\n",
        "Creating a Tuple:\n",
        "\n",
        "We create a tuple called my_tuple with elements (1, 2, 3, 4, 5).\n",
        "We print the original tuple.\n",
        "\n",
        "Attempting to Modify the Tuple:\n",
        "\n",
        "We try to change the third element (index 2) of the tuple to 99.\n",
        "Since tuples are immutable, this raises a TypeError, which we catch and print."
      ],
      "metadata": {
        "id": "1vZf1jBR_9oS"
      }
    },
    {
      "cell_type": "code",
      "source": [
        "# 6.  Write a function to demonstrate the behavior of mutable and immutable arguments.\n",
        "def demonstrate_mutable_immutable(mutable_arg, immutable_arg):\n",
        "    print(\"Before modification:\")\n",
        "    print(\"Mutable argument (list):\", mutable_arg)\n",
        "    print(\"Immutable argument (integer):\", immutable_arg)\n",
        "\n",
        "    # Modifying the mutable argument\n",
        "    mutable_arg.append(100)  # This will modify the original list\n",
        "    print(\"\\nAfter modifying the mutable argument:\")\n",
        "    print(\"Mutable argument (list):\", mutable_arg)\n",
        "\n",
        "    # Attempting to modify the immutable argument\n",
        "    immutable_arg += 10  # This creates a new integer object\n",
        "    print(\"After modifying the immutable argument:\")\n",
        "    print(\"Immutable argument (integer):\", immutable_arg)\n",
        "\n",
        "# Create a mutable argument (list) and an immutable argument (integer)\n",
        "my_list = [1, 2, 3]\n",
        "my_integer = 5\n",
        "\n",
        "# Call the function\n",
        "demonstrate_mutable_immutable(my_list, my_integer)\n",
        "\n",
        "# Show the original arguments after the function call\n",
        "print(\"\\nOriginal arguments after function call:\")\n",
        "print(\"Original list:\", my_list)\n",
        "print(\"Original integer:\", my_integer)"
      ],
      "metadata": {
        "colab": {
          "base_uri": "https://localhost:8080/"
        },
        "id": "NV5VGyXCALmB",
        "outputId": "46b371f9-764b-43ce-ab2b-186a91a34247"
      },
      "execution_count": 14,
      "outputs": [
        {
          "output_type": "stream",
          "name": "stdout",
          "text": [
            "Before modification:\n",
            "Mutable argument (list): [1, 2, 3]\n",
            "Immutable argument (integer): 5\n",
            "\n",
            "After modifying the mutable argument:\n",
            "Mutable argument (list): [1, 2, 3, 100]\n",
            "After modifying the immutable argument:\n",
            "Immutable argument (integer): 15\n",
            "\n",
            "Original arguments after function call:\n",
            "Original list: [1, 2, 3, 100]\n",
            "Original integer: 5\n"
          ]
        }
      ]
    },
    {
      "cell_type": "code",
      "source": [
        "# 7. Write a program to demonstrate the use of logical operators.\n",
        "def demonstrate_logical_operators():\n",
        "    # Define some boolean variables\n",
        "    a = True\n",
        "    b = False\n",
        "    c = True\n",
        "\n",
        "    print(\"Logical Operators Demonstration:\")\n",
        "    print(f\"a = {a}, b = {b}, c = {c}\\n\")\n",
        "\n",
        "    # Using the 'and' operator\n",
        "    print(\"Using 'and' operator:\")\n",
        "    print(f\"a and b: {a and b}\")  # False, because b is False\n",
        "    print(f\"a and c: {a and c}\")  # True, because both a and c are True\n",
        "    print(f\"b and c: {b and c}\")  # False, because b is False\n",
        "    print()\n",
        "\n",
        "    # Using the 'or' operator\n",
        "    print(\"Using 'or' operator:\")\n",
        "    print(f\"a or b: {a or b}\")    # True, because a is True\n",
        "    print(f\"a or c: {a or c}\")    # True, because a is True\n",
        "    print(f\"b or c: {b or c}\")    # True, because c is True\n",
        "    print()\n",
        "\n",
        "    # Using the 'not' operator\n",
        "    print(\"Using 'not' operator:\")\n",
        "    print(f\"not a: {not a}\")      # False, because a is True\n",
        "    print(f\"not b: {not b}\")      # True, because b is False\n",
        "    print(f\"not c: {not c}\")      # False, because c is True\n",
        "\n",
        "# Call the function to demonstrate logical operators\n",
        "demonstrate_logical_operators()"
      ],
      "metadata": {
        "colab": {
          "base_uri": "https://localhost:8080/"
        },
        "id": "sXUG7wAQA5Gg",
        "outputId": "9e61901b-c942-49ab-ae8f-0d7f18a90fb2"
      },
      "execution_count": 15,
      "outputs": [
        {
          "output_type": "stream",
          "name": "stdout",
          "text": [
            "Logical Operators Demonstration:\n",
            "a = True, b = False, c = True\n",
            "\n",
            "Using 'and' operator:\n",
            "a and b: False\n",
            "a and c: True\n",
            "b and c: False\n",
            "\n",
            "Using 'or' operator:\n",
            "a or b: True\n",
            "a or c: True\n",
            "b or c: True\n",
            "\n",
            "Using 'not' operator:\n",
            "not a: False\n",
            "not b: True\n",
            "not c: False\n"
          ]
        }
      ]
    },
    {
      "cell_type": "code",
      "source": [
        "# 8. Write a Python program to convert user input from string to integer, float, and boolean types.\n",
        "def convert_user_input():\n",
        "    # Get user input\n",
        "    user_input = input(\"Enter a value: \")\n",
        "\n",
        "    # Convert to integer\n",
        "    try:\n",
        "        int_value = int(user_input)\n",
        "        print(f\"Integer value: {int_value}\")\n",
        "    except ValueError:\n",
        "        print(\"Invalid input for integer conversion.\")\n",
        "\n",
        "    # Convert to float\n",
        "    try:\n",
        "        float_value = float(user_input)\n",
        "        print(f\"Float value: {float_value}\")\n",
        "    except ValueError:\n",
        "        print(\"Invalid input for float conversion.\")\n",
        "\n",
        "    # Convert to boolean\n",
        "    # For boolean conversion, we consider non-empty strings as True and empty strings as False\n",
        "    bool_value = bool(user_input)\n",
        "    print(f\"Boolean value: {bool_value}\")\n",
        "\n",
        "# Call the function to perform the conversions\n",
        "convert_user_input()"
      ],
      "metadata": {
        "colab": {
          "base_uri": "https://localhost:8080/"
        },
        "id": "SpjqrFzUBMi8",
        "outputId": "9ce89919-d8d9-4222-89ae-8d98365698a8"
      },
      "execution_count": 18,
      "outputs": [
        {
          "output_type": "stream",
          "name": "stdout",
          "text": [
            "Enter a value: 3.14\n",
            "Invalid input for integer conversion.\n",
            "Float value: 3.14\n",
            "Boolean value: True\n"
          ]
        }
      ]
    },
    {
      "cell_type": "code",
      "source": [
        "# 9.  Write code to demonstrate type casting with list elements.\n",
        "def demonstrate_type_casting():\n",
        "    # Create a list with mixed types\n",
        "    mixed_list = [\"1\", \"2.5\", 3, 4.0, True, \"False\"]\n",
        "\n",
        "    print(\"Original mixed list:\", mixed_list)\n",
        "\n",
        "    # Type casting elements in the list\n",
        "    int_list = []      # List to hold integer values\n",
        "    float_list = []    # List to hold float values\n",
        "    bool_list = []     # List to hold boolean values\n",
        "\n",
        "    for item in mixed_list:\n",
        "        # Attempt to cast to integer\n",
        "        try:\n",
        "            int_value = int(item)\n",
        "            int_list.append(int_value)\n",
        "        except ValueError:\n",
        "            int_list.append(None)  # Append None if conversion fails\n",
        "\n",
        "        # Attempt to cast to float\n",
        "        try:\n",
        "            float_value = float(item)\n",
        "            float_list.append(float_value)\n",
        "        except ValueError:\n",
        "            float_list.append(None)  # Append None if conversion fails\n",
        "\n",
        "        # Attempt to cast to boolean\n",
        "        bool_value = bool(item)  # Non-empty strings are True, empty strings are False\n",
        "        bool_list.append(bool_value)\n",
        "\n",
        "    # Print the results\n",
        "    print(\"\\nConverted to Integer List:\", int_list)\n",
        "    print(\"Converted to Float List:\", float_list)\n",
        "    print(\"Converted to Boolean List:\", bool_list)\n",
        "\n",
        "# Call the function to demonstrate type casting\n",
        "demonstrate_type_casting()"
      ],
      "metadata": {
        "colab": {
          "base_uri": "https://localhost:8080/"
        },
        "id": "zRLeyo6lB3t0",
        "outputId": "c0977d79-885f-49de-cffd-b7db35ebe7d0"
      },
      "execution_count": 19,
      "outputs": [
        {
          "output_type": "stream",
          "name": "stdout",
          "text": [
            "Original mixed list: ['1', '2.5', 3, 4.0, True, 'False']\n",
            "\n",
            "Converted to Integer List: [1, None, 3, 4, 1, None]\n",
            "Converted to Float List: [1.0, 2.5, 3.0, 4.0, 1.0, None]\n",
            "Converted to Boolean List: [True, True, True, True, True, True]\n"
          ]
        }
      ]
    },
    {
      "cell_type": "code",
      "source": [
        "# 10.  Write a program that checks if a number is positive, negative, or zero.\n",
        "def check_number():\n",
        "    # Get user input\n",
        "    user_input = input(\"Enter a number: \")\n",
        "\n",
        "    try:\n",
        "        # Convert the input to a float\n",
        "        number = float(user_input)\n",
        "\n",
        "        # Check if the number is positive, negative, or zero\n",
        "        if number > 0:\n",
        "            print(\"The number is positive.\")\n",
        "        elif number < 0:\n",
        "            print(\"The number is negative.\")\n",
        "        else:\n",
        "            print(\"The number is zero.\")\n",
        "    except ValueError:\n",
        "        print(\"Invalid input! Please enter a valid number.\")\n",
        "\n",
        "# Call the function to check the number\n",
        "check_number()\n"
      ],
      "metadata": {
        "colab": {
          "base_uri": "https://localhost:8080/"
        },
        "id": "ZYZyNICVCNJm",
        "outputId": "c3b638e8-a6ce-4058-f042-0abcb33006bb"
      },
      "execution_count": 20,
      "outputs": [
        {
          "output_type": "stream",
          "name": "stdout",
          "text": [
            "Enter a number: -3.2\n",
            "The number is negative.\n"
          ]
        }
      ]
    },
    {
      "cell_type": "code",
      "source": [
        "# 11. Write a for loop to print numbers from 1 to 10.\n",
        "# Using a for loop to print numbers from 1 to 10\n",
        "for number in range(1, 11):\n",
        "    print(number)"
      ],
      "metadata": {
        "colab": {
          "base_uri": "https://localhost:8080/"
        },
        "id": "ZYU3NvrYCacI",
        "outputId": "388c0be2-43b4-4844-c1e7-0b4ec02416b2"
      },
      "execution_count": 21,
      "outputs": [
        {
          "output_type": "stream",
          "name": "stdout",
          "text": [
            "1\n",
            "2\n",
            "3\n",
            "4\n",
            "5\n",
            "6\n",
            "7\n",
            "8\n",
            "9\n",
            "10\n"
          ]
        }
      ]
    },
    {
      "cell_type": "code",
      "source": [
        "# 12. Write a Python program to find the sum of all even numbers between 1 and 50.\n",
        "def sum_of_even_numbers():\n",
        "    # Initialize the sum variable\n",
        "    total_sum = 0\n",
        "\n",
        "    # Loop through numbers from 1 to 50\n",
        "    for number in range(1, 51):\n",
        "        # Check if the number is even\n",
        "        if number % 2 == 0:\n",
        "            total_sum += number  # Add the even number to the total sum\n",
        "\n",
        "    return total_sum\n",
        "\n",
        "# Call the function and print the result\n",
        "result = sum_of_even_numbers()\n",
        "print(\"The sum of all even numbers between 1 and 50 is:\", result)"
      ],
      "metadata": {
        "colab": {
          "base_uri": "https://localhost:8080/"
        },
        "id": "oTEqT0LVCpsw",
        "outputId": "52ffbddd-1830-4a62-d63f-a6b0b5ccf9cf"
      },
      "execution_count": 23,
      "outputs": [
        {
          "output_type": "stream",
          "name": "stdout",
          "text": [
            "The sum of all even numbers between 1 and 50 is: 650\n"
          ]
        }
      ]
    },
    {
      "cell_type": "code",
      "source": [
        "# 13.  Write a program to reverse a string using a while loop.\n",
        "def reverse_string(input_string):\n",
        "    # Initialize an empty string to hold the reversed string\n",
        "    reversed_string = \"\"\n",
        "\n",
        "    # Get the length of the input string\n",
        "    length = len(input_string)\n",
        "\n",
        "    # Initialize a counter\n",
        "    index = length - 1\n",
        "\n",
        "    # Use a while loop to reverse the string\n",
        "    while index >= 0:\n",
        "        reversed_string += input_string[index]  # Append the character at the current index\n",
        "        index -= 1  # Decrement the index\n",
        "\n",
        "    return reversed_string\n",
        "\n",
        "# Predefined string to reverse\n",
        "input_string = \"Hello, World!\"\n",
        "\n",
        "# Call the function and print the result\n",
        "result = reverse_string(input_string)\n",
        "print(\"Reversed string:\", result)\n"
      ],
      "metadata": {
        "colab": {
          "base_uri": "https://localhost:8080/"
        },
        "id": "xQy_mM10C5eS",
        "outputId": "98be2aaf-0bae-476f-d9fe-7f5a7b705498"
      },
      "execution_count": 25,
      "outputs": [
        {
          "output_type": "stream",
          "name": "stdout",
          "text": [
            "Reversed string: !dlroW ,olleH\n"
          ]
        }
      ]
    },
    {
      "cell_type": "code",
      "source": [
        "# 14.  Write a Python program to calculate the factorial of a number provided by the user using a while loop. (for e.g., we can take user output as 13)\n",
        "def calculate_factorial():\n",
        "    # Set the number to 13\n",
        "    number = 13\n",
        "\n",
        "    # Initialize factorial result\n",
        "    factorial = 1\n",
        "    count = 1\n",
        "\n",
        "    # Calculate factorial using a while loop\n",
        "    while count <= number:\n",
        "        factorial *= count  # Multiply the current count to the factorial\n",
        "        count += 1  # Increment the count\n",
        "\n",
        "    # Print the result\n",
        "    print(f\"The factorial of {number} is: {factorial}\")\n",
        "\n",
        "# Call the function to calculate the factorial\n",
        "calculate_factorial()"
      ],
      "metadata": {
        "colab": {
          "base_uri": "https://localhost:8080/"
        },
        "id": "PHuBaFbVDFXs",
        "outputId": "cbea87ed-ca8c-48c7-8c9a-1e10bef5edad"
      },
      "execution_count": 1,
      "outputs": [
        {
          "output_type": "stream",
          "name": "stdout",
          "text": [
            "The factorial of 13 is: 6227020800\n"
          ]
        }
      ]
    }
  ]
}